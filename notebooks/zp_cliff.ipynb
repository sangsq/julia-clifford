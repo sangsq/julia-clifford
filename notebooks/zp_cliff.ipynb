{
 "cells": [
  {
   "cell_type": "code",
   "execution_count": 156,
   "metadata": {},
   "outputs": [
    {
     "data": {
      "text/plain": [
       "zp_random_symplectic_matrix (generic function with 1 method)"
      ]
     },
     "execution_count": 156,
     "metadata": {},
     "output_type": "execute_result"
    }
   ],
   "source": [
    "include(\"../src/FiniteFields.jl\")"
   ]
  },
  {
   "cell_type": "code",
   "execution_count": 157,
   "metadata": {},
   "outputs": [
    {
     "data": {
      "text/plain": [
       "zp_P_matrix (generic function with 1 method)"
      ]
     },
     "execution_count": 157,
     "metadata": {},
     "output_type": "execute_result"
    }
   ],
   "source": []
  },
  {
   "cell_type": "code",
   "execution_count": 158,
   "metadata": {},
   "outputs": [
    {
     "data": {
      "text/plain": [
       "6×6 Array{GF{3},2}:\n",
       " GF{3}(0)  GF{3}(2)  GF{3}(0)  GF{3}(0)  GF{3}(0)  GF{3}(0)\n",
       " GF{3}(1)  GF{3}(0)  GF{3}(0)  GF{3}(0)  GF{3}(0)  GF{3}(0)\n",
       " GF{3}(0)  GF{3}(0)  GF{3}(0)  GF{3}(2)  GF{3}(0)  GF{3}(0)\n",
       " GF{3}(0)  GF{3}(0)  GF{3}(1)  GF{3}(0)  GF{3}(0)  GF{3}(0)\n",
       " GF{3}(0)  GF{3}(0)  GF{3}(0)  GF{3}(0)  GF{3}(0)  GF{3}(2)\n",
       " GF{3}(0)  GF{3}(0)  GF{3}(0)  GF{3}(0)  GF{3}(1)  GF{3}(0)"
      ]
     },
     "execution_count": 158,
     "metadata": {},
     "output_type": "execute_result"
    }
   ],
   "source": [
    "n = 3\n",
    "T = GF{3}\n",
    "sp = zp_random_symplectic_matrix(T, n)\n",
    "P = zp_P_matrix(T, n)"
   ]
  },
  {
   "cell_type": "code",
   "execution_count": 159,
   "metadata": {},
   "outputs": [
    {
     "data": {
      "text/plain": [
       "6×6 Array{GF{3},2}:\n",
       " GF{3}(0)  GF{3}(0)  GF{3}(0)  GF{3}(0)  GF{3}(0)  GF{3}(0)\n",
       " GF{3}(0)  GF{3}(0)  GF{3}(0)  GF{3}(0)  GF{3}(0)  GF{3}(0)\n",
       " GF{3}(0)  GF{3}(0)  GF{3}(0)  GF{3}(0)  GF{3}(0)  GF{3}(0)\n",
       " GF{3}(0)  GF{3}(0)  GF{3}(0)  GF{3}(0)  GF{3}(0)  GF{3}(0)\n",
       " GF{3}(0)  GF{3}(0)  GF{3}(0)  GF{3}(0)  GF{3}(0)  GF{3}(0)\n",
       " GF{3}(0)  GF{3}(0)  GF{3}(0)  GF{3}(0)  GF{3}(0)  GF{3}(0)"
      ]
     },
     "execution_count": 159,
     "metadata": {},
     "output_type": "execute_result"
    }
   ],
   "source": [
    "sp' * P * sp - P"
   ]
  },
  {
   "cell_type": "code",
   "execution_count": 146,
   "metadata": {},
   "outputs": [
    {
     "data": {
      "text/plain": [
       "GF{3}(1)"
      ]
     },
     "execution_count": 146,
     "metadata": {},
     "output_type": "execute_result"
    }
   ],
   "source": [
    "zp_symplectic_inner(sp[1, :], sp[3, :])"
   ]
  },
  {
   "cell_type": "code",
   "execution_count": 107,
   "metadata": {},
   "outputs": [
    {
     "data": {
      "text/plain": [
       "4×4 Adjoint{GF{3},Array{GF{3},2}}:\n",
       " GF{3}(2)  GF{3}(1)  GF{3}(2)  GF{3}(2)\n",
       " GF{3}(2)  GF{3}(2)  GF{3}(2)  GF{3}(0)\n",
       " GF{3}(1)  GF{3}(2)  GF{3}(2)  GF{3}(1)\n",
       " GF{3}(2)  GF{3}(0)  GF{3}(1)  GF{3}(0)"
      ]
     },
     "execution_count": 107,
     "metadata": {},
     "output_type": "execute_result"
    }
   ],
   "source": [
    "sp"
   ]
  },
  {
   "cell_type": "code",
   "execution_count": 108,
   "metadata": {},
   "outputs": [
    {
     "data": {
      "text/plain": [
       "4×4 Array{GF{3},2}:\n",
       " GF{3}(2)  GF{3}(2)  GF{3}(1)  GF{3}(2)\n",
       " GF{3}(1)  GF{3}(2)  GF{3}(2)  GF{3}(0)\n",
       " GF{3}(2)  GF{3}(2)  GF{3}(2)  GF{3}(1)\n",
       " GF{3}(2)  GF{3}(0)  GF{3}(1)  GF{3}(0)"
      ]
     },
     "execution_count": 108,
     "metadata": {},
     "output_type": "execute_result"
    }
   ],
   "source": [
    "sp"
   ]
  },
  {
   "cell_type": "code",
   "execution_count": 7,
   "metadata": {},
   "outputs": [
    {
     "data": {
      "text/plain": [
       "gen_X_Z (generic function with 1 method)"
      ]
     },
     "execution_count": 7,
     "metadata": {},
     "output_type": "execute_result"
    }
   ],
   "source": [
    "using LinearAlgebra\n",
    "function gen_X_Z(p)\n",
    "    omega = exp(1im*2pi/p)\n",
    "    X = zeros(ComplexF64, p, p)\n",
    "    Z = zeros(ComplexF64, p, p)\n",
    "    for i in 1:p\n",
    "        X[i, mod(i, p) + 1] = 1\n",
    "        Z[i, i] = omega^(i-1)\n",
    "    end\n",
    "    return X,Z\n",
    "end"
   ]
  },
  {
   "cell_type": "code",
   "execution_count": 14,
   "metadata": {},
   "outputs": [
    {
     "data": {
      "text/plain": [
       "5×5 Array{Complex{Float64},2}:\n",
       " 1.0-2.57555e-16im  0.0+0.0im          …  0.0+0.0im\n",
       " 0.0+0.0im          1.0-2.64896e-16im     0.0+0.0im\n",
       " 0.0+0.0im          0.0+0.0im             0.0+0.0im\n",
       " 0.0+0.0im          0.0+0.0im             0.0+0.0im\n",
       " 0.0+0.0im          0.0+0.0im             1.0-3.33067e-16im"
      ]
     },
     "execution_count": 14,
     "metadata": {},
     "output_type": "execute_result"
    }
   ],
   "source": [
    "p = 5\n",
    "X, Z = gen_X_Z(p)\n",
    "(X^2*Z^1)^p"
   ]
  },
  {
   "cell_type": "code",
   "execution_count": 9,
   "metadata": {},
   "outputs": [
    {
     "data": {
      "text/plain": [
       "5×5 Array{Complex{Float64},2}:\n",
       " 1.0+0.0im       0.0+0.0im             0.0+0.0im       …       0.0+0.0im\n",
       " 0.0+0.0im  0.309017+0.951057im        0.0+0.0im               0.0+0.0im\n",
       " 0.0+0.0im       0.0+0.0im       -0.809017+0.587785im          0.0+0.0im\n",
       " 0.0+0.0im       0.0+0.0im             0.0+0.0im               0.0+0.0im\n",
       " 0.0+0.0im       0.0+0.0im             0.0+0.0im          0.309017-0.951057im"
      ]
     },
     "execution_count": 9,
     "metadata": {},
     "output_type": "execute_result"
    }
   ],
   "source": [
    "Z"
   ]
  },
  {
   "cell_type": "code",
   "execution_count": null,
   "metadata": {},
   "outputs": [],
   "source": []
  }
 ],
 "metadata": {
  "kernelspec": {
   "display_name": "Julia 1.5.3",
   "language": "julia",
   "name": "julia-1.5"
  },
  "language_info": {
   "file_extension": ".jl",
   "mimetype": "application/julia",
   "name": "julia",
   "version": "1.5.3"
  },
  "orig_nbformat": 4
 },
 "nbformat": 4,
 "nbformat_minor": 2
}
