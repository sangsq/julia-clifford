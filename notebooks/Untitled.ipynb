{
 "cells": [
  {
   "cell_type": "code",
   "execution_count": 1,
   "metadata": {},
   "outputs": [
    {
     "data": {
      "text/plain": [
       "ap_mutual_info (generic function with 1 method)"
      ]
     },
     "execution_count": 1,
     "metadata": {},
     "output_type": "execute_result"
    }
   ],
   "source": [
    "include(\"../cliff5.jl\")"
   ]
  },
  {
   "cell_type": "code",
   "execution_count": 36,
   "metadata": {},
   "outputs": [
    {
     "data": {
      "text/plain": [
       "tmp (generic function with 1 method)"
      ]
     },
     "execution_count": 36,
     "metadata": {},
     "output_type": "execute_result"
    }
   ],
   "source": [
    "function tmp()\n",
    "    pss = [Paulis[II, II], Paulis[II, Z], Paulis[Z, II], Paulis[Z, Z]]\n",
    "    c = random_clifford(3)\n",
    "    pt(x) = (x[1] == II)&&(x[2]==II) ? x[3] : 0\n",
    "    f(x) = pt(clifford_action_on_pauli_string(c, x))\n",
    "    ii= Tuple([f(cat(s, [II],dims=1)) for s in pss if f(cat(s, [II],dims=1))!=0])\n",
    "    x = Tuple([f(cat(s, [X], dims=1)) for s in pss if f(cat(s, [X], dims=1))!=0])\n",
    "    y = Tuple([f(cat(s, [Y], dims=1)) for s in pss if f(cat(s, [Y], dims=1))!=0])\n",
    "    z = Tuple([f(cat(s, [Z], dims=1)) for s in pss if f(cat(s, [Z], dims=1))!=0])\n",
    "    return ii, x, y, z\n",
    "end"
   ]
  },
  {
   "cell_type": "code",
   "execution_count": 40,
   "metadata": {
    "scrolled": false
   },
   "outputs": [
    {
     "name": "stdout",
     "output_type": "stream",
     "text": [
      "length(r) = 19\n",
      "II-> (II,)\n",
      "X -> ()\n",
      "Y -> ()\n",
      "Z -> ()\n",
      "\n",
      "II-> (II,)\n",
      "X -> ()\n",
      "Y -> (X,)\n",
      "Z -> ()\n",
      "\n",
      "II-> (II,)\n",
      "X -> ()\n",
      "Y -> ()\n",
      "Z -> (Z,)\n",
      "\n",
      "II-> (II,)\n",
      "X -> (X,)\n",
      "Y -> ()\n",
      "Z -> ()\n",
      "\n",
      "II-> (II, Y)\n",
      "X -> ()\n",
      "Y -> ()\n",
      "Z -> ()\n",
      "\n",
      "II-> (II,)\n",
      "X -> (Z,)\n",
      "Y -> (X,)\n",
      "Z -> (Y,)\n",
      "\n",
      "II-> (II,)\n",
      "X -> ()\n",
      "Y -> (Y,)\n",
      "Z -> ()\n",
      "\n",
      "II-> (II,)\n",
      "X -> ()\n",
      "Y -> (Z,)\n",
      "Z -> ()\n",
      "\n",
      "II-> (II,)\n",
      "X -> (Y,)\n",
      "Y -> ()\n",
      "Z -> ()\n",
      "\n",
      "II-> (II,)\n",
      "X -> ()\n",
      "Y -> ()\n",
      "Z -> (X,)\n",
      "\n",
      "II-> (II,)\n",
      "X -> (Z,)\n",
      "Y -> ()\n",
      "Z -> ()\n",
      "\n",
      "II-> (II,)\n",
      "X -> (Y,)\n",
      "Y -> (Z,)\n",
      "Z -> (X,)\n",
      "\n",
      "II-> (II,)\n",
      "X -> ()\n",
      "Y -> ()\n",
      "Z -> (Y,)\n",
      "\n",
      "II-> (II, Z)\n",
      "X -> ()\n",
      "Y -> ()\n",
      "Z -> ()\n",
      "\n",
      "II-> (II, X)\n",
      "X -> ()\n",
      "Y -> ()\n",
      "Z -> ()\n",
      "\n",
      "II-> (II,)\n",
      "X -> (Y,)\n",
      "Y -> (X,)\n",
      "Z -> (Z,)\n",
      "\n",
      "II-> (II,)\n",
      "X -> (X,)\n",
      "Y -> (Z,)\n",
      "Z -> (Y,)\n",
      "\n",
      "II-> (II,)\n",
      "X -> (X,)\n",
      "Y -> (Y,)\n",
      "Z -> (Z,)\n",
      "\n",
      "II-> (II,)\n",
      "X -> (Z,)\n",
      "Y -> (Y,)\n",
      "Z -> (X,)\n",
      "\n"
     ]
    }
   ],
   "source": [
    "n = 1000\n",
    "r = [tmp() for _ in 1:n]\n",
    "r = unique(r)\n",
    "@show length(r)\n",
    "for a in r\n",
    "    ii, x, y, z = a\n",
    "    print(\"II-> \", ii, \"\\n\")\n",
    "    print(\"X -> \", x, \"\\n\")\n",
    "    print(\"Y -> \", y, \"\\n\")\n",
    "    print(\"Z -> \", z, \"\\n\\n\")\n",
    "end"
   ]
  },
  {
   "cell_type": "code",
   "execution_count": 9,
   "metadata": {},
   "outputs": [
    {
     "data": {
      "text/plain": [
       "\"II\""
      ]
     },
     "execution_count": 9,
     "metadata": {},
     "output_type": "execute_result"
    }
   ],
   "source": [
    "string(II)"
   ]
  },
  {
   "cell_type": "code",
   "execution_count": null,
   "metadata": {},
   "outputs": [],
   "source": []
  }
 ],
 "metadata": {
  "kernelspec": {
   "display_name": "Julia 1.5.3",
   "language": "julia",
   "name": "julia-1.5"
  },
  "language_info": {
   "file_extension": ".jl",
   "mimetype": "application/julia",
   "name": "julia",
   "version": "1.5.3"
  }
 },
 "nbformat": 4,
 "nbformat_minor": 4
}
