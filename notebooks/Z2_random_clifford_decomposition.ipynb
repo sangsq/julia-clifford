{
 "cells": [
  {
   "cell_type": "code",
   "execution_count": 2,
   "metadata": {},
   "outputs": [],
   "source": [
    "include(\"../sym_cliff.jl\")\n",
    "using PyPlot\n",
    "using Statistics\n",
    "using LinearAlgebra"
   ]
  },
  {
   "cell_type": "code",
   "execution_count": 3,
   "metadata": {},
   "outputs": [
    {
     "data": {
      "text/plain": [
       "d_sum (generic function with 1 method)"
      ]
     },
     "execution_count": 3,
     "metadata": {},
     "output_type": "execute_result"
    }
   ],
   "source": [
    "mod2(x::Int) = div(x, 2)\n",
    "\n",
    "function rand_mat(n)\n",
    "    ortho_b_mat = binary_random_orthogonal_matrix(2n)\n",
    "    sp_b_mat = binary_jordan_wigner_transform!(ortho_b_mat)\n",
    "    return sp_b_mat\n",
    "end\n",
    "\n",
    "function id_mat(n)\n",
    "    return Matrix(I, 2n, 2n)\n",
    "end\n",
    "\n",
    "function to_tuple(mat)\n",
    "    m, n = size(mat)\n",
    "    tmp = reshape(mat, m*n)\n",
    "    return Tuple(tmp)\n",
    "end\n",
    "\n",
    "function compose4(l)\n",
    "    mat = id_mat(4)\n",
    "    for _ in 1:l\n",
    "        tmp1 = d_sum(id_mat(1), rand_mat(2),id_mat(1))\n",
    "        tmp2 = d_sum(rand_mat(2),rand_mat(2))\n",
    "        tmp = tmp1 * tmp2\n",
    "        mat = (tmp * mat) .% 2\n",
    "    end\n",
    "    return mat\n",
    "end\n",
    "\n",
    "function d_sum(mats...)\n",
    "    result = zeros(Bool, sum([size(m,1) for m in mats]), sum([size(m,1) for m in mats]))\n",
    "    xb = 0\n",
    "    for m in mats\n",
    "        n = size(m, 1)\n",
    "        result[xb + 1:xb + n, xb + 1:xb + n] = m\n",
    "        xb += n\n",
    "    end\n",
    "    return result\n",
    "end\n",
    "        "
   ]
  },
  {
   "cell_type": "code",
   "execution_count": 9,
   "metadata": {},
   "outputs": [
    {
     "data": {
      "text/plain": [
       "99969"
      ]
     },
     "execution_count": 9,
     "metadata": {},
     "output_type": "execute_result"
    }
   ],
   "source": [
    "N = 1e5\n",
    "\n",
    "dict = Dict{NTuple{64,Bool}, Int}()\n",
    "for _ in 1:N\n",
    "    tmp = to_tuple(rand_mat(4))\n",
    "    if !(tmp in keys(dict))\n",
    "        dict[tmp] = 1\n",
    "    end\n",
    "end\n",
    "\n",
    "length(keys(dict))"
   ]
  },
  {
   "cell_type": "code",
   "execution_count": null,
   "metadata": {},
   "outputs": [],
   "source": []
  },
  {
   "cell_type": "code",
   "execution_count": null,
   "metadata": {},
   "outputs": [],
   "source": []
  },
  {
   "cell_type": "code",
   "execution_count": null,
   "metadata": {},
   "outputs": [],
   "source": []
  },
  {
   "cell_type": "code",
   "execution_count": null,
   "metadata": {},
   "outputs": [],
   "source": []
  }
 ],
 "metadata": {
  "kernelspec": {
   "display_name": "Julia 1.2.0",
   "language": "julia",
   "name": "julia-1.1"
  },
  "language_info": {
   "file_extension": ".jl",
   "mimetype": "application/julia",
   "name": "julia",
   "version": "1.2.0"
  }
 },
 "nbformat": 4,
 "nbformat_minor": 2
}
