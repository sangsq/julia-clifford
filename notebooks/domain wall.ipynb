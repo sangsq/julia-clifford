{
 "cells": [
  {
   "cell_type": "code",
   "execution_count": 73,
   "metadata": {},
   "outputs": [],
   "source": [
    "include(\"../binary_linalg.jl\")\n",
    "using PyPlot"
   ]
  },
  {
   "cell_type": "code",
   "execution_count": 74,
   "metadata": {},
   "outputs": [
    {
     "data": {
      "text/plain": [
       "cal_2rep_free_energy_given_bc (generic function with 1 method)"
      ]
     },
     "execution_count": 74,
     "metadata": {},
     "output_type": "execute_result"
    }
   ],
   "source": [
    "rand_cliff(n) = binary_random_symplectic_matrix(n)\n",
    "rand_cc_cliff(n) = binary_charge_conserving_symplectic_mat(n)\n",
    "id_cliff(n) = diagm(Bool[true for _ in 1:2n])\n",
    "all_plus(n) = id_cliff(n)[1:2:end, :]\n",
    "\n",
    "epr_cliff = Bool[1 0 1 0; 0 1 0 0; 0 1 0 1; 0 0 1 0]\n",
    "inv_epr_cliff = Bool[1 0 0 1; 0 1 0 0; 0 0 0 1; 0 1 1 0]\n",
    "\n",
    "\n",
    "function b_mat_mult!(m1, m2)\n",
    "    \"\"\"\n",
    "    m1 will be inplacely multiplied by m2 which is a square bmat:\n",
    "    m1 = m1 * m2\n",
    "    \"\"\"\n",
    "    @assert size(m1, 2) == size(m2, 1) == size(m2, 2)\n",
    "    m, n = size(m1)\n",
    "    tmp = zeros(Bool, n)\n",
    "    @inbounds for i in 1:m\n",
    "        tmp .= 0\n",
    "        for k in 1:n, j in 1:n\n",
    "            tmp[k] ⊻= m1[i, j] * m2[j, k]\n",
    "        end\n",
    "        for k in 1:n\n",
    "            m1[i, k] = tmp[k]\n",
    "        end\n",
    "    end\n",
    "    return nothing\n",
    "end\n",
    "\n",
    "function s2b(rg::UnitRange)\n",
    "    a, b = rg.start, rg.stop\n",
    "    return 2a-1:2b\n",
    "end\n",
    "function s2b(rg)\n",
    "    l = length(rg)\n",
    "    result = zeros(Int64, 2l)\n",
    "    for i in 1:l\n",
    "        result[2i-1] = 2rg[i]-1\n",
    "        result[2i] = 2rg[i]\n",
    "    end\n",
    "    return result\n",
    "end\n",
    "\n",
    "\n",
    "function cliff_on_cliff!(cliff1, cliff2, rg)\n",
    "    b_rg = s2b(rg)\n",
    "    tmp = @view cliff2[:, b_rg]\n",
    "    b_mat_mult!(tmp, cliff1)\n",
    "    return nothing\n",
    "end\n",
    "\n",
    "function cliff_on_state!(cliff, state, rg)\n",
    "    b_rg = s2b(rg)\n",
    "    tmp = @view state[:, b_rg]\n",
    "    b_mat_mult!(tmp, cliff)\n",
    "    return nothing\n",
    "end\n",
    "\n",
    "\n",
    "function rand_cliff_circuit(n, t, gate, periodic)\n",
    "    cl = id_cliff(n)\n",
    "    for _ in 1:t\n",
    "        for ini in [1,2]\n",
    "            for i in ini:2:(periodic ? n : n-1)\n",
    "                tmp = gate(2)\n",
    "                cliff_on_cliff!(tmp, cl, [i, i%n+1])\n",
    "            end\n",
    "        end\n",
    "    end\n",
    "    return cl\n",
    "end\n",
    "\n",
    "    \n",
    "function cal_2rep_free_energy_given_bc(cliff, lower_bc, upper_bc)\n",
    "    \"\"\"\n",
    "    BC code: 0 for free, 1 for id, 2 for perm (1 2)\n",
    "    Qubits are arrange as [rep1_in, rep1_out, rep2_in, rep2_out]\n",
    "    \"\"\"\n",
    "    n = div(size(cliff, 1), 2)\n",
    "    state = all_plus(4n)\n",
    "    \n",
    "    for i in 1:n\n",
    "        if lower_bc[i] == 1\n",
    "            cliff_on_state!(epr_cliff, state, [0n+i, 1n+i])\n",
    "            cliff_on_state!(epr_cliff, state, [2n+i, 3n+i])\n",
    "        elseif lower_bc[i] == 2\n",
    "            cliff_on_state!(epr_cliff, state, [1n+i, 2n+i])\n",
    "            cliff_on_state!(epr_cliff, state, [3n+i, 0n+i])\n",
    "        end\n",
    "    end\n",
    "    cliff_on_state!(cliff, state, 0n+1:1n)\n",
    "    cliff_on_state!(cliff, state, 1n+1:2n)\n",
    "    cliff_on_state!(cliff, state, 2n+1:3n)\n",
    "    cliff_on_state!(cliff, state, 3n+1:4n)\n",
    "    for i in 1:n\n",
    "        if upper_bc[i] == 1\n",
    "            cliff_on_state!(inv_epr_cliff, state, [0n+i, 1n+i])\n",
    "            cliff_on_state!(inv_epr_cliff, state, [2n+i, 3n+i])\n",
    "        elseif upper_bc[i] == 2\n",
    "            cliff_on_state!(inv_epr_cliff, state, [1n+i, 2n+i])\n",
    "            cliff_on_state!(inv_epr_cliff, state, [3n+i, 0n+i])\n",
    "        end\n",
    "    end\n",
    "    \n",
    "    a, _ = binary_uppertrianglize!(state[:, 2:2:end])\n",
    "    return length(a)\n",
    "end    "
   ]
  },
  {
   "cell_type": "code",
   "execution_count": 72,
   "metadata": {},
   "outputs": [
    {
     "data": {
      "text/plain": [
       "10"
      ]
     },
     "execution_count": 72,
     "metadata": {},
     "output_type": "execute_result"
    }
   ],
   "source": [
    "l_bc = [1, 1, 1, 2, 2, 2, 2]\n",
    "u_bc = [1, 1, 1, 2, 2, 2, 2]\n",
    "cl = rand_cliff(7)\n",
    "# cl = id_cliff(3)\n",
    "\n",
    "x = cal_2rep_free_energy_given_bc(cl, l_bc, u_bc)"
   ]
  },
  {
   "cell_type": "code",
   "execution_count": 210,
   "metadata": {},
   "outputs": [
    {
     "data": {
      "text/plain": [
       "4×4 Array{Bool,2}:\n",
       " 1  0  0  0\n",
       " 0  1  0  0\n",
       " 0  0  1  0\n",
       " 0  0  0  1"
      ]
     },
     "execution_count": 210,
     "metadata": {},
     "output_type": "execute_result"
    }
   ],
   "source": [
    "b = copy(inv_epr_cliff)\n",
    "cliff_on_cliff!(copy(epr_cliff), b, [1,2])\n",
    "b"
   ]
  },
  {
   "cell_type": "code",
   "execution_count": 64,
   "metadata": {},
   "outputs": [],
   "source": [
    "n = 32\n",
    "t = 16\n",
    "periodic = false\n",
    "gate = rand_cliff\n",
    "\n",
    "cut_at_s(s, n, left=1, right=2) = Int[(i<=s ? left : right) for i in 1:n]\n",
    "\n",
    "fs = zeros(n+1)\n",
    "for _ in 1:100\n",
    "    cliff = rand_cliff_circuit(n, t, gate, periodic)\n",
    "    fs += [cal_2rep_free_energy_given_bc(cliff, cut_at_s(i, n), cut_at_s(div(n, 2), n)) for i in 0:n]\n",
    "end\n",
    "fs ./= 100;"
   ]
  },
  {
   "cell_type": "code",
   "execution_count": 65,
   "metadata": {},
   "outputs": [
    {
     "data": {
      "image/png": "[encoded data removed]",
      "text/plain": [
       "Figure(PyObject <Figure size 640x480 with 1 Axes>)"
      ]
     },
     "metadata": {},
     "output_type": "display_data"
    },
    {
     "data": {
      "text/plain": [
       "1-element Array{PyCall.PyObject,1}:\n",
       " PyObject <matplotlib.lines.Line2D object at 0x000000000140D340>"
      ]
     },
     "execution_count": 65,
     "metadata": {},
     "output_type": "execute_result"
    }
   ],
   "source": [
    "plot(fs[2:2:end],\"-o\", ms=2)"
   ]
  },
  {
   "cell_type": "code",
   "execution_count": 280,
   "metadata": {},
   "outputs": [
    {
     "data": {
      "text/plain": [
       "6-element Array{Int64,1}:\n",
       " 1\n",
       " 1\n",
       " 1\n",
       " 2\n",
       " 2\n",
       " 2"
      ]
     },
     "execution_count": 280,
     "metadata": {},
     "output_type": "execute_result"
    }
   ],
   "source": [
    "cut_at_s(3,6)"
   ]
  },
  {
   "cell_type": "code",
   "execution_count": 272,
   "metadata": {},
   "outputs": [
    {
     "data": {
      "text/plain": [
       "(Bool[1 0 … 0 0; 0 1 … 0 0; … ; 0 0 … 0 0; 0 0 … 1 1], Bool[1 1 … 0 0; 1 0 … 0 0; … ; 0 0 … 1 1; 0 0 … 1 1])"
      ]
     },
     "execution_count": 272,
     "metadata": {},
     "output_type": "execute_result"
    }
   ],
   "source": [
    "a = copy(cliff)\n",
    "a[:, 1:2:end], a[:, 2:2:end] = a[:, 2:2:end], a[:, 1:2:end]\n",
    "a[1:2:end, :], a[2:2:end, :] = a[2:2:end, :], a[1:2:end, :]"
   ]
  },
  {
   "cell_type": "code",
   "execution_count": 273,
   "metadata": {},
   "outputs": [
    {
     "data": {
      "text/plain": [
       "128×128 BitArray{2}:\n",
       " 1  0  0  0  0  0  0  0  0  0  0  0  0  …  0  0  0  0  0  0  0  0  0  0  0  0\n",
       " 0  1  0  0  0  0  0  0  0  0  0  0  0     0  0  0  0  0  0  0  0  0  0  0  0\n",
       " 0  0  1  0  0  0  0  0  0  0  0  0  0     0  0  0  0  0  0  0  0  0  0  0  0\n",
       " 0  0  0  1  0  0  0  0  0  0  0  0  0     0  0  0  0  0  0  0  0  0  0  0  0\n",
       " 0  0  0  0  1  0  0  0  0  0  0  0  0     0  0  0  0  0  0  0  0  0  0  0  0\n",
       " 0  0  0  0  0  1  0  0  0  0  0  0  0  …  0  0  0  0  0  0  0  0  0  0  0  0\n",
       " 0  0  0  0  0  0  1  0  0  0  0  0  0     0  0  0  0  0  0  0  0  0  0  0  0\n",
       " 0  0  0  0  0  0  0  1  0  0  0  0  0     0  0  0  0  0  0  0  0  0  0  0  0\n",
       " 0  0  0  0  0  0  0  0  1  0  0  0  0     0  0  0  0  0  0  0  0  0  0  0  0\n",
       " 0  0  0  0  0  0  0  0  0  1  0  0  0     0  0  0  0  0  0  0  0  0  0  0  0\n",
       " 0  0  0  0  0  0  0  0  0  0  1  0  0  …  0  0  0  0  0  0  0  0  0  0  0  0\n",
       " 0  0  0  0  0  0  0  0  0  0  0  1  0     0  0  0  0  0  0  0  0  0  0  0  0\n",
       " 0  0  0  0  0  0  0  0  0  0  0  0  1     0  0  0  0  0  0  0  0  0  0  0  0\n",
       " ⋮              ⋮              ⋮        ⋱              ⋮              ⋮     \n",
       " 0  0  0  0  0  0  0  0  0  0  0  0  0     1  0  0  0  0  0  0  0  0  0  0  0\n",
       " 0  0  0  0  0  0  0  0  0  0  0  0  0     0  1  0  0  0  0  0  0  0  0  0  0\n",
       " 0  0  0  0  0  0  0  0  0  0  0  0  0     0  0  1  0  0  0  0  0  0  0  0  0\n",
       " 0  0  0  0  0  0  0  0  0  0  0  0  0     0  0  0  1  0  0  0  0  0  0  0  0\n",
       " 0  0  0  0  0  0  0  0  0  0  0  0  0  …  0  0  0  0  1  0  0  0  0  0  0  0\n",
       " 0  0  0  0  0  0  0  0  0  0  0  0  0     0  0  0  0  0  1  0  0  0  0  0  0\n",
       " 0  0  0  0  0  0  0  0  0  0  0  0  0     0  0  0  0  0  0  1  0  0  0  0  0\n",
       " 0  0  0  0  0  0  0  0  0  0  0  0  0     0  0  0  0  0  0  0  1  0  0  0  0\n",
       " 0  0  0  0  0  0  0  0  0  0  0  0  0     0  0  0  0  0  0  0  0  1  0  0  0\n",
       " 0  0  0  0  0  0  0  0  0  0  0  0  0  …  0  0  0  0  0  0  0  0  0  1  0  0\n",
       " 0  0  0  0  0  0  0  0  0  0  0  0  0     0  0  0  0  0  0  0  0  0  0  1  0\n",
       " 0  0  0  0  0  0  0  0  0  0  0  0  0     0  0  0  0  0  0  0  0  0  0  0  1"
      ]
     },
     "execution_count": 273,
     "metadata": {},
     "output_type": "execute_result"
    }
   ],
   "source": [
    "isodd.(a' * cliff)"
   ]
  },
  {
   "cell_type": "code",
   "execution_count": 270,
   "metadata": {},
   "outputs": [
    {
     "data": {
      "text/plain": [
       "128×128 Array{Bool,2}:\n",
       " 0  0  1  0  0  0  1  0  0  1  1  0  0  …  0  0  0  0  0  0  0  0  0  0  0  0\n",
       " 1  0  0  1  1  0  1  1  0  0  1  1  1     0  0  0  0  0  0  0  0  0  0  0  0\n",
       " 0  0  0  1  1  0  0  1  0  1  0  1  1     0  0  0  0  0  0  0  0  0  0  0  0\n",
       " 0  1  1  0  0  0  0  1  1  0  1  1  0     0  0  0  0  0  0  0  0  0  0  0  0\n",
       " 0  1  0  1  0  1  0  1  1  0  0  1  1     0  0  0  0  0  0  0  0  0  0  0  0\n",
       " 0  0  0  0  0  0  1  1  0  0  0  1  0  …  0  0  0  0  0  0  0  0  0  0  0  0\n",
       " 0  0  0  0  1  1  0  1  0  0  1  0  1     0  0  0  0  0  0  0  0  0  0  0  0\n",
       " 1  0  1  1  0  0  1  1  1  0  1  1  1     0  0  0  0  0  0  0  0  0  0  0  0\n",
       " 1  1  0  1  1  1  1  1  1  0  0  1  0     0  0  0  0  0  0  0  0  0  0  0  0\n",
       " 1  0  0  0  1  1  1  0  0  0  1  1  0     0  0  0  0  0  0  0  0  0  0  0  0\n",
       " 1  0  1  1  0  1  0  1  0  0  1  0  1  …  0  0  0  0  0  0  0  0  0  0  0  0\n",
       " 0  1  0  1  1  0  1  1  0  1  1  1  1     0  0  0  0  0  0  0  0  0  0  0  0\n",
       " 0  1  1  0  0  0  1  1  1  0  0  1  1     0  0  0  0  0  0  0  0  0  0  0  0\n",
       " ⋮              ⋮              ⋮        ⋱              ⋮              ⋮     \n",
       " 0  0  0  0  0  0  0  0  0  0  0  0  0     0  0  1  0  0  0  0  1  0  1  1  1\n",
       " 0  0  0  0  0  0  0  0  0  0  0  0  0     0  0  0  0  1  1  0  0  1  1  1  0\n",
       " 0  0  0  0  0  0  0  0  0  0  0  0  0     0  1  0  1  1  0  0  0  1  0  0  0\n",
       " 0  0  0  0  0  0  0  0  0  0  0  0  0     1  0  1  1  0  0  0  0  0  1  0  1\n",
       " 0  0  0  0  0  0  0  0  0  0  0  0  0  …  0  0  0  0  1  0  1  0  0  0  0  0\n",
       " 0  0  0  0  0  0  0  0  0  0  0  0  0     1  0  0  0  0  1  1  0  1  1  1  1\n",
       " 0  0  0  0  0  0  0  0  0  0  0  0  0     1  1  0  1  0  0  0  1  0  1  0  0\n",
       " 0  0  0  0  0  0  0  0  0  0  0  0  0     1  0  1  1  1  0  0  1  0  1  1  0\n",
       " 0  0  0  0  0  0  0  0  0  0  0  0  0     0  0  0  0  0  1  1  0  1  1  0  1\n",
       " 0  0  0  0  0  0  0  0  0  0  0  0  0  …  0  1  1  1  0  0  1  1  0  0  1  1\n",
       " 0  0  0  0  0  0  0  0  0  0  0  0  0     0  1  0  0  1  1  1  0  0  0  0  0\n",
       " 0  0  0  0  0  0  0  0  0  0  0  0  0     1  1  0  1  0  1  1  0  0  1  1  1"
      ]
     },
     "execution_count": 270,
     "metadata": {},
     "output_type": "execute_result"
    }
   ],
   "source": [
    "cliff"
   ]
  },
  {
   "cell_type": "code",
   "execution_count": null,
   "metadata": {},
   "outputs": [],
   "source": []
  }
 ],
 "metadata": {
  "kernelspec": {
   "display_name": "Julia 1.5.3",
   "language": "julia",
   "name": "julia-1.5"
  },
  "language_info": {
   "file_extension": ".jl",
   "mimetype": "application/julia",
   "name": "julia",
   "version": "1.5.3"
  }
 },
 "nbformat": 4,
 "nbformat_minor": 4
}
