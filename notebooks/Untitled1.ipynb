{
 "cells": [
  {
   "cell_type": "code",
   "execution_count": 1,
   "metadata": {},
   "outputs": [
    {
     "ename": "LoadError",
     "evalue": "LoadError: LoadError: syntax: invalid function name \"Base.maybeview\" around C:\\Users\\sangs\\Desktop\\j_code\\julia-clifford\\cliff7.jl:245\nin expression starting at C:\\Users\\sangs\\Desktop\\j_code\\julia-clifford\\cliff7.jl:221\nin expression starting at C:\\Users\\sangs\\Desktop\\j_code\\julia-clifford\\channels.jl:1",
     "output_type": "error",
     "traceback": [
      "LoadError: LoadError: syntax: invalid function name \"Base.maybeview\" around C:\\Users\\sangs\\Desktop\\j_code\\julia-clifford\\cliff7.jl:245\nin expression starting at C:\\Users\\sangs\\Desktop\\j_code\\julia-clifford\\cliff7.jl:221\nin expression starting at C:\\Users\\sangs\\Desktop\\j_code\\julia-clifford\\channels.jl:1",
      "",
      "Stacktrace:",
      " [1] top-level scope at C:\\Users\\sangs\\Desktop\\j_code\\julia-clifford\\cliff7.jl:221",
      " [2] include(::String) at .\\client.jl:457",
      " [3] top-level scope at C:\\Users\\sangs\\Desktop\\j_code\\julia-clifford\\channels.jl:1",
      " [4] include(::String) at .\\client.jl:457",
      " [5] top-level scope at In[1]:1",
      " [6] include_string(::Function, ::Module, ::String, ::String) at .\\loading.jl:1091"
     ]
    }
   ],
   "source": [
    "include(\"../channels.jl\")"
   ]
  },
  {
   "cell_type": "code",
   "execution_count": null,
   "metadata": {},
   "outputs": [],
   "source": []
  },
  {
   "cell_type": "code",
   "execution_count": null,
   "metadata": {},
   "outputs": [],
   "source": []
  }
 ],
 "metadata": {
  "kernelspec": {
   "display_name": "Julia 1.5.3",
   "language": "julia",
   "name": "julia-1.5"
  },
  "language_info": {
   "file_extension": ".jl",
   "mimetype": "application/julia",
   "name": "julia",
   "version": "1.5.3"
  }
 },
 "nbformat": 4,
 "nbformat_minor": 4
}
