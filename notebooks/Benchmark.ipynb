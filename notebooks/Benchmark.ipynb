{
 "cells": [
  {
   "cell_type": "code",
   "execution_count": 1,
   "metadata": {},
   "outputs": [
    {
     "data": {
      "text/plain": [
       "rk (generic function with 1 method)"
      ]
     },
     "execution_count": 1,
     "metadata": {},
     "output_type": "execute_result"
    }
   ],
   "source": [
    "include(\"cliff4.jl\")"
   ]
  },
  {
   "cell_type": "code",
   "execution_count": 2,
   "metadata": {},
   "outputs": [
    {
     "ename": "LoadError",
     "evalue": "syntax: extra token \"cliff4\" after end of expression",
     "output_type": "error",
     "traceback": [
      "syntax: extra token \"cliff4\" after end of expression",
      ""
     ]
    }
   ],
   "source": [
    "state = Paulis[II for i in 1:12*12].view(12,12)\n",
    "\n",
    "H = (Z, Y, X)\n",
    "P = (X, Y, Z)\n",
    "CNOTL = ((X, X), (Y, X), (Z,II), (II,X), (Z, Y), (Z, Z))\n",
    "CNOTR = ((X,II), (Y, Z), (Z, Z), (X, X), (X, Y), (II,Z))"
   ]
  },
  {
   "cell_type": "code",
   "execution_count": null,
   "metadata": {},
   "outputs": [],
   "source": [
    "CNOTL = [(II + Z) II] + [(II - Z) X]"
   ]
  }
 ],
 "metadata": {
  "kernelspec": {
   "display_name": "Julia 1.2.0",
   "language": "julia",
   "name": "julia-1.1"
  },
  "language_info": {
   "file_extension": ".jl",
   "mimetype": "application/julia",
   "name": "julia",
   "version": "1.2.0"
  }
 },
 "nbformat": 4,
 "nbformat_minor": 2
}
