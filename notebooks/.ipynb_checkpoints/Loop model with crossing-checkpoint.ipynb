{
 "cells": [
  {
   "cell_type": "markdown",
   "metadata": {},
   "source": [
    "## Loop model with crossing\n",
    "* [https://arxiv.org/pdf/1303.2342.pdf](https://arxiv.org/pdf/1303.2342.pdf)"
   ]
  },
  {
   "cell_type": "code",
   "execution_count": 7,
   "metadata": {},
   "outputs": [],
   "source": [
    "using Random\n",
    "using Statistics\n",
    "using PyPlot"
   ]
  },
  {
   "cell_type": "code",
   "execution_count": 47,
   "metadata": {},
   "outputs": [
    {
     "data": {
      "text/plain": [
       "arc_length_statistics (generic function with 1 method)"
      ]
     },
     "execution_count": 47,
     "metadata": {},
     "output_type": "execute_result"
    }
   ],
   "source": [
    "function product_state(n)\n",
    "    state = Array{UInt64}(1:n)\n",
    "    state[1:2:end], state[2:2:end] = state[2:2:end], state[1:2:end]\n",
    "    return state\n",
    "end\n",
    "\n",
    "function one_layer_update!(state, p)\n",
    "    n = size(state, 1)\n",
    "    for i in 1:2:(n-1)\n",
    "        a, b = state[i], state[i+1]\n",
    "        if rand() < p\n",
    "            state[i], state[i+1] = b, a\n",
    "            state[a], state[b] = i+1, i\n",
    "        elseif rand() < 0.5\n",
    "            state[a], state[b] = b, a\n",
    "            state[i], state[i+1] = i+1, i\n",
    "        end\n",
    "    end\n",
    "    for i in 2:2:(n-1)\n",
    "        a, b = state[i], state[i+1]\n",
    "        if rand() < p\n",
    "            state[i], state[i+1] = b, a\n",
    "            state[a], state[b] = i+1, i\n",
    "        elseif rand() < 0.5\n",
    "            state[a], state[b] = b, a\n",
    "            state[i], state[i+1] = i+1, i\n",
    "        end\n",
    "    end\n",
    "    return state\n",
    "end\n",
    "\n",
    "function correlation_across_all_cuts(state)\n",
    "    n = size(state, 1)\n",
    "    results = zeros(Int, n)\n",
    "    current_val = 0\n",
    "    for i in 1:n\n",
    "        if state[i] > i\n",
    "            current_val += 1\n",
    "        else\n",
    "            current_val -= 1\n",
    "        end\n",
    "        results[i] = current_val\n",
    "    end\n",
    "    return results\n",
    "end\n",
    "\n",
    "function arc_length_statistics(state)\n",
    "    n = size(state, 1)\n",
    "    result = zeros(Int, n)\n",
    "    for i in 1:n\n",
    "        if tmp[i] > i\n",
    "            result[tmp[i] - i] += 1\n",
    "        end\n",
    "    end\n",
    "    return result\n",
    "end"
   ]
  },
  {
   "cell_type": "code",
   "execution_count": 48,
   "metadata": {},
   "outputs": [
    {
     "ename": "UndefVarError",
     "evalue": "UndefVarError: b not defined",
     "output_type": "error",
     "traceback": [
      "UndefVarError: b not defined",
      "",
      "Stacktrace:",
      " [1] one_layer_update!(::Array{UInt64,1}, ::Float64) at .\\In[47]:21",
      " [2] top-level scope at .\\In[48]:6"
     ]
    }
   ],
   "source": [
    "n = 10000\n",
    "t = 10n\n",
    "\n",
    "state = product_state(n)\n",
    "for i in 1:t\n",
    "    one_layer_update!(state, 0.5)\n",
    "end\n",
    "result = correlation_across_all_cuts(state)\n",
    "plot(result)"
   ]
  },
  {
   "cell_type": "code",
   "execution_count": 46,
   "metadata": {},
   "outputs": [
    {
     "data": {
      "text/plain": [
       "8985"
      ]
     },
     "execution_count": 46,
     "metadata": {},
     "output_type": "execute_result"
    }
   ],
   "source": [
    "Int(state[state[8985]])"
   ]
  },
  {
   "cell_type": "code",
   "execution_count": 12,
   "metadata": {},
   "outputs": [
    {
     "data": {
      "text/plain": [
       "3-element Array{Int64,1}:\n",
       " 1\n",
       " 2\n",
       " 3"
      ]
     },
     "execution_count": 12,
     "metadata": {},
     "output_type": "execute_result"
    }
   ],
   "source": [
    "sort([1,3,2])\n",
    "one_layer_update!"
   ]
  },
  {
   "cell_type": "code",
   "execution_count": null,
   "metadata": {},
   "outputs": [],
   "source": []
  }
 ],
 "metadata": {
  "kernelspec": {
   "display_name": "Julia 1.2.0",
   "language": "julia",
   "name": "julia-1.1"
  },
  "language_info": {
   "file_extension": ".jl",
   "mimetype": "application/julia",
   "name": "julia",
   "version": "1.2.0"
  }
 },
 "nbformat": 4,
 "nbformat_minor": 2
}
