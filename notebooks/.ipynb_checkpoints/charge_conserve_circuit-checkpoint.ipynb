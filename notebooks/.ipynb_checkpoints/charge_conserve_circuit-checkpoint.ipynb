{
 "cells": [
  {
   "cell_type": "code",
   "execution_count": 28,
   "metadata": {},
   "outputs": [],
   "source": [
    "include(\"../cliff7.jl\")\n",
    "using PyPlot\n",
    "using Profile"
   ]
  },
  {
   "cell_type": "code",
   "execution_count": null,
   "metadata": {},
   "outputs": [],
   "source": []
  },
  {
   "cell_type": "code",
   "execution_count": 29,
   "metadata": {},
   "outputs": [
    {
     "data": {
      "text/plain": [
       "cc_apmi_sim (generic function with 1 method)"
      ]
     },
     "execution_count": 29,
     "metadata": {},
     "output_type": "execute_result"
    }
   ],
   "source": [
    "function cc_adam_gate!(state, b, i, j, p)\n",
    "    ms = size(state, 1)==size(state, 2) ? fps_measurement! : measurement!\n",
    "    cliff = random_clifford(2b)\n",
    "    rg = union(b*i-b+1:b*i, b*j-b+1:b*j)\n",
    "    clifford_action!(cliff, state, rg)\n",
    "    if rand() < p\n",
    "        obs = (0, Bool[1, 0])\n",
    "        for k in b*i-b+1:b*i\n",
    "            ms(state, obs, [k])\n",
    "        end\n",
    "    end\n",
    "    if rand() < p\n",
    "        obs = (0, Bool[1, 0])\n",
    "        for k in b*j-b+1:b*j\n",
    "            ms(state, obs, [k])\n",
    "        end\n",
    "    end\n",
    "    return nothing\n",
    "end\n",
    "\n",
    "function cc_ee_sim(n, b, cut, p_list, n_step, step_size, burnin, n_average, periodic)\n",
    "    result = zeros(length(p_list), n_step)\n",
    "    for (k, p) in enumerate(p_list)\n",
    "        for _ in 1:n_average\n",
    "            state = all_up(n*b)\n",
    "            for _ in 1:burnin\n",
    "                for ini in [1, 2]\n",
    "                    for i in ini : 2 : (periodic ? n : n-1)\n",
    "                        j = i==n ? 1 : i+1\n",
    "                        cc_adam_gate!(state, b, i, j, p)\n",
    "                    end\n",
    "                end\n",
    "            end\n",
    "            for t in 1:n_step\n",
    "                result[k, t] += left_ee_on_all_cuts(state)[b*cut+1]\n",
    "                for _ in 1:step_size\n",
    "                    for ini in [1, 2]\n",
    "                        for i in ini : 2 : (periodic ? n : n-1)\n",
    "                            j = i==n ? 1 : i+1\n",
    "                            cc_adam_gate!(state, b, i, j, p)\n",
    "                        end\n",
    "                    end\n",
    "                end\n",
    "            end\n",
    "        end\n",
    "    end\n",
    "    result ./= n_average\n",
    "    return result\n",
    "end\n",
    "\n",
    "function cc_apmi_sim(n_list, b, cut, p_list, n_step, step_size, burnin, n_average, periodic)\n",
    "    result = zeros(length(n_list), length(p_list), )\n",
    "    for (k, p) in enumerate(p_list)\n",
    "        for _ in 1:n_average\n",
    "            state = all_up(n*b)\n",
    "            for t in 1:n_step\n",
    "                result[k, t] += 0\n",
    "                for _ in 1:step_size\n",
    "                    for ini in [1, 2]\n",
    "                        for i in ini : 2 : (periodic ? n : n-1)\n",
    "                            j = i==n ? 1 : i+1\n",
    "                            cc_adam_gate!(state, b, i, j, p)\n",
    "                        end\n",
    "                    end\n",
    "                end\n",
    "            end\n",
    "        end\n",
    "    end\n",
    "    result ./= n_average\n",
    "    return result\n",
    "end"
   ]
  },
  {
   "cell_type": "code",
   "execution_count": 30,
   "metadata": {},
   "outputs": [
    {
     "data": {
      "text/plain": [
       "30"
      ]
     },
     "execution_count": 30,
     "metadata": {},
     "output_type": "execute_result"
    }
   ],
   "source": [
    "n = 128\n",
    "b = 2\n",
    "cut = div(n, 2)\n",
    "p_list = [0]\n",
    "n_step = 128\n",
    "step_size = 1\n",
    "burnin = 0\n",
    "n_average = 100\n",
    "periodic = true\n",
    "nn = 30"
   ]
  },
  {
   "cell_type": "code",
   "execution_count": null,
   "metadata": {},
   "outputs": [],
   "source": [
    "Profile.clear()\n",
    "Profile.init(Int(1e7), 0.01)\n",
    "@profile cc_ee_sim(n, b, cut, p_list, n_step, step_size, burnin, n_average, periodic)"
   ]
  },
  {
   "cell_type": "code",
   "execution_count": null,
   "metadata": {},
   "outputs": [],
   "source": [
    "Profile.print(mincount=5000)"
   ]
  },
  {
   "cell_type": "code",
   "execution_count": null,
   "metadata": {},
   "outputs": [],
   "source": []
  }
 ],
 "metadata": {
  "kernelspec": {
   "display_name": "Julia 1.5.3",
   "language": "julia",
   "name": "julia-1.5"
  },
  "language_info": {
   "file_extension": ".jl",
   "mimetype": "application/julia",
   "name": "julia",
   "version": "1.5.3"
  }
 },
 "nbformat": 4,
 "nbformat_minor": 4
}
