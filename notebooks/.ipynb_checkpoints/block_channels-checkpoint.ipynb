{
 "cells": [
  {
   "cell_type": "code",
   "execution_count": 2,
   "metadata": {},
   "outputs": [],
   "source": [
    "include(\"../channels.jl\")\n",
    "using PyPlot\n",
    "using LaTeXStrings\n",
    "using Profile\n",
    "using JLD2, FileIO"
   ]
  },
  {
   "cell_type": "code",
   "execution_count": 6,
   "metadata": {},
   "outputs": [
    {
     "data": {
      "text/plain": [
       "block_bw_update! (generic function with 2 methods)"
      ]
     },
     "execution_count": 6,
     "metadata": {},
     "output_type": "execute_result"
    }
   ],
   "source": [
    "function block_adam_op!(state, i, j, p, dilation)\n",
    "    if rand() < dilation\n",
    "        cl = random_clifford(2b)\n",
    "        rg = cat((i-1)*b+1:i*b, (j-1)*b+1:j*b, dims=1)\n",
    "        clifford_action!(cl, state, rg)\n",
    "    end\n",
    "    if rand() < p && rand() < dilation\n",
    "        for k in 1:b\n",
    "            depolarize!(state, (i-1)*b+k)\n",
    "            depolarize!(state, (j-1)*b+k)\n",
    "        end\n",
    "    end\n",
    "    return nothing\n",
    "end\n",
    "\n",
    "function block_bw_update!(state, p, dilation, periodic=true)\n",
    "    n = div(size(state, 2), b)\n",
    "    for ini in [1, 2]\n",
    "        for i in ini : 2 : (periodic ? n : n-1)\n",
    "            j = i==n ? 1 : i+1\n",
    "            block_adam_op!(state, i, j, p, dilation)\n",
    "        end\n",
    "    end\n",
    "    return nothing\n",
    "end"
   ]
  },
  {
   "cell_type": "code",
   "execution_count": null,
   "metadata": {},
   "outputs": [],
   "source": [
    "n = 64\n",
    "p_list = 0.05:0.05:0.2\n",
    "dilation = 0.01\n",
    "n_average = 1000\n",
    "n_step = 512\n",
    "b = 8\n",
    "\n",
    "ees = zeros(length(p_list), n_step)\n",
    "\n",
    "for i in 1:length(p_list)\n",
    "    p = p_list[i]\n",
    "    for _ in 1:n_average\n",
    "        state = all_up(n * b)\n",
    "        for k in 1:n_step\n",
    "            ees[i, k] += entropy(state)\n",
    "            block_bw_update!(state, p, dilation)\n",
    "        end\n",
    "    end\n",
    "end\n",
    "ees ./= n_average\n",
    "result = ees\n",
    "\n",
    "@save \"./cache/b_dp_slow.jld2\" result"
   ]
  },
  {
   "cell_type": "code",
   "execution_count": null,
   "metadata": {},
   "outputs": [],
   "source": [
    "@load \"./cache/b_dp_slow.jld2\" result\n",
    "\n",
    "n = 64\n",
    "p_list = 0.05:0.05:0.2\n",
    "n_step = 512\n",
    "ees = result\n",
    "fg, ax = subplots(3, figsize=(6, 12))\n",
    "\n",
    "for i in 1:length(p_list)\n",
    "    x = (0:n_step-1)\n",
    "    ax[1].plot(x, ees[i, :], \".-\", label=string(\"p=\", p_list[i]), ms=1)\n",
    "    ax[2].plot(x .* p_list[i].^1, ees[i, :], \".-\", label=string(\"p=\", p_list[i]), ms=1)\n",
    "    ax[3].plot(x .* p_list[i].^0.75, ees[i, :], \".-\", label=string(\"p=\", p_list[i]), ms=1)\n",
    "end\n",
    "ax[1].set_xlabel(L\"t\")\n",
    "ax[1].set_ylabel(\"S(t)\")\n",
    "ax[1].legend()\n",
    "ax[2].set_xlabel(L\"t\\times p\")\n",
    "ax[2].set_ylabel(\"S(t)\")\n",
    "ax[2].legend()\n",
    "ax[3].set_xlabel(L\"t\\times p^{3/4}\")\n",
    "ax[3].set_ylabel(\"S(t)\")\n",
    "ax[3].legend()"
   ]
  },
  {
   "cell_type": "code",
   "execution_count": null,
   "metadata": {},
   "outputs": [],
   "source": []
  }
 ],
 "metadata": {
  "kernelspec": {
   "display_name": "Julia 1.5.3",
   "language": "julia",
   "name": "julia-1.5"
  },
  "language_info": {
   "file_extension": ".jl",
   "mimetype": "application/julia",
   "name": "julia",
   "version": "1.5.3"
  }
 },
 "nbformat": 4,
 "nbformat_minor": 4
}
