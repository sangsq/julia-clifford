{
 "cells": [
  {
   "cell_type": "code",
   "execution_count": 2,
   "metadata": {},
   "outputs": [],
   "source": [
    "include(\"../sym_cliff.jl\")\n",
    "using PyPlot\n",
    "using LaTeXStrings\n",
    "using Profile"
   ]
  },
  {
   "cell_type": "code",
   "execution_count": null,
   "metadata": {},
   "outputs": [],
   "source": [
    "function XX_measurement!(state, posi1, posi2)\n",
    "    M, N = size(state)\n",
    "    uncommute_rows = [i for i in 1:M if !commute((X, X), (state[i, posi1], state[i, posi2]))]\n",
    "    if isempty(uncommute_rows)\n",
    "        return state\n",
    "    end\n",
    "    for row in uncommute_rows[2:end]\n",
    "        state[row, :] .*= @view state[uncommute_rows[1], :]\n",
    "    end\n",
    "    row = uncommute_rows[1]\n",
    "    state[row, :] .= II\n",
    "    state[row, [posi1, posi2]] = Paulis[X, X]\n",
    "    return state\n",
    "end\n",
    "\n",
    "db_all_up(N) = all_up(2N)\n",
    "function depolarize!(state, i)\n",
    "    N = div(size(state, 1), 2)\n",
    "    ZZ_measurement!(state, i, N+i)\n",
    "    XX_measurement!(state, i, N+i)\n",
    "    return nothing\n",
    "end\n",
    "\n",
    "function thermal_entropy(state)\n",
    "    N = div(size(state, 1), 2)\n",
    "    return rk(state[:, 1:N]) - N\n",
    "end\n",
    "\n",
    "function db_rand_gate(state, i, j)\n",
    "    N = div(size(state, 1), 2)\n",
    "    cl = random_2clifford()\n",
    "    cliff2_action(cl, state, i, j)\n",
    "    cliff2_action(cl, state, i+N, j+N)\n",
    "    return nothing\n",
    "end\n",
    "\n",
    "function adam_op!(state, i, j, channel, p, dilation)\n",
    "    _, n = size(state)\n",
    "    if rand() < dilation\n",
    "        db_rand_gate(state, i, j)\n",
    "    end\n",
    "    if rand() < p && rand() < dilation\n",
    "        channel(state, i)\n",
    "    end\n",
    "    if rand() < p && rand() < dilation\n",
    "        channel(state, j)\n",
    "    end\n",
    "    return nothing\n",
    "end\n",
    "\n",
    "function bw_update!(state, channel, p, op, dilation, periodic=true)\n",
    "    n = div(size(state, 1), 2)\n",
    "    for i in 1 : (periodic ? n : n-1)\n",
    "        j = i==n ? 1 : i+1\n",
    "        op(state, i, j, channel, p, dilation)\n",
    "    end\n",
    "    return nothing\n",
    "end"
   ]
  },
  {
   "cell_type": "code",
   "execution_count": null,
   "metadata": {},
   "outputs": [],
   "source": [
    "n = 64\n",
    "p_list = 0.1:0.1:0.8\n",
    "dilation = 0.2\n",
    "n_average = 1000\n",
    "n_step = 60\n",
    "channel = depolarize!\n",
    "op = adam_op!\n",
    "ees = zeros(length(p_list), n_step)\n",
    "\n",
    "for i in 1:length(p_list)\n",
    "    p = p_list[i]\n",
    "    for _ in 1:n_average\n",
    "        state = db_all_up(n)\n",
    "        for k in 1:n_step\n",
    "            ees[i, k] += thermal_entropy(state)\n",
    "            bw_update!(state, channel, p, op, dilation)\n",
    "        end\n",
    "    end\n",
    "end\n",
    "ees ./= n_average"
   ]
  },
  {
   "cell_type": "code",
   "execution_count": null,
   "metadata": {},
   "outputs": [],
   "source": [
    "for i in 1:length(p_list)\n",
    "    x = (0:n_step-1)\n",
    "    plot(x, ees[i, :], \".-\", label=string(\"p=\", p_list[i]))\n",
    "end\n",
    "xlabel(L\"$t$\")\n",
    "ylabel(\"state entropy\")\n",
    "legend()"
   ]
  },
  {
   "cell_type": "code",
   "execution_count": null,
   "metadata": {},
   "outputs": [],
   "source": [
    "nv = 0.75\n",
    "for i in 1:length(p_list)\n",
    "    x = (0:n_step-1)\n",
    "    plot(x .* p_list[i].^nv, ees[i, :], \".-\", label=string(\"p=\", p_list[i]))\n",
    "end\n",
    "xlabel(L\"$t \\times p^{3/4}$\")\n",
    "ylabel(L\"$S$\")\n",
    "legend()"
   ]
  },
  {
   "cell_type": "code",
   "execution_count": null,
   "metadata": {},
   "outputs": [],
   "source": [
    "eps = 1e-7\n",
    "for i in 1:length(p_list)\n",
    "    x = 0:n_step-1\n",
    "    p = p_list[i]\n",
    "    plot(x .* p .^ 0.5, n .- ees[i, :] .+ eps, \".-\", label=string(\"p=\", p_list[i]))\n",
    "end\n",
    "xlabel(L\"$t \\times p^{1/2}$\")\n",
    "ylabel(L\"$L-S(t)$\")\n",
    "yscale(\"log\")\n",
    "legend()"
   ]
  },
  {
   "cell_type": "code",
   "execution_count": null,
   "metadata": {},
   "outputs": [],
   "source": []
  }
 ],
 "metadata": {
  "kernelspec": {
   "display_name": "Julia 1.5.3",
   "language": "julia",
   "name": "julia-1.5"
  },
  "language_info": {
   "file_extension": ".jl",
   "mimetype": "application/julia",
   "name": "julia",
   "version": "1.5.3"
  }
 },
 "nbformat": 4,
 "nbformat_minor": 4
}
