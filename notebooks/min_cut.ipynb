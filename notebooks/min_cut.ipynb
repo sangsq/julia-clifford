{
 "cells": [
  {
   "cell_type": "code",
   "execution_count": 4,
   "metadata": {},
   "outputs": [],
   "source": [
    "using LightGraphs\n",
    "using GraphPlot\n",
    "using LightGraphsFlows\n",
    "using PyPlot"
   ]
  },
  {
   "cell_type": "code",
   "execution_count": 23,
   "metadata": {},
   "outputs": [
    {
     "data": {
      "text/plain": [
       "get_mean_flow (generic function with 2 methods)"
      ]
     },
     "execution_count": 23,
     "metadata": {},
     "output_type": "execute_result"
    }
   ],
   "source": [
    "function cor_to_idx(cor, shape)\n",
    "    i, j = cor\n",
    "    i -= 1\n",
    "    j -= 1\n",
    "    n1, n2 = shape\n",
    "    idx = j * n1 + i\n",
    "    return idx + 1\n",
    "end\n",
    "\n",
    "\n",
    "function idx_to_cor(idx, shape)\n",
    "    n1, n2 = shape\n",
    "    idx -= 1\n",
    "    j = div(idx, n1)\n",
    "    i = idx % n1\n",
    "    return i + 1, j + 1\n",
    "end\n",
    "\n",
    "\n",
    "function get_grid(t, l, d, periodic)\n",
    "    shape = (t, l)\n",
    "    n = t * l\n",
    "    g = DiGraph(n+2)\n",
    "    edges = Tuple{Int, Int}[]\n",
    "    for i in 1:t\n",
    "        for j in 1:l\n",
    "            idx = cor_to_idx((i, j), shape)\n",
    "            if i != t\n",
    "                idx2 = cor_to_idx((i+1, j), shape)\n",
    "                push!(edges, (idx, idx2))\n",
    "                push!(edges, (idx2, idx))\n",
    "            end\n",
    "            if (j==l) && !periodic\n",
    "                break\n",
    "            end\n",
    "            idx2 = cor_to_idx((i, j==l ? 1 : j+1), shape)\n",
    "            rand()<d && push!(edges, (idx, idx2))\n",
    "            rand()<d && push!(edges, (idx2, idx))\n",
    "        end\n",
    "    end\n",
    "    cp_mat = zeros(Int, n+2, n+2)\n",
    "    for (i,j) in edges\n",
    "        add_edge!(g, i, j)\n",
    "        cp_mat[i, j] = 1\n",
    "    end\n",
    "    return g, cp_mat\n",
    "end\n",
    "\n",
    "function get_mean_flow(t, l, periodic, p, d, n_average)\n",
    "    shape = (t, l)\n",
    "    n = t * l\n",
    "    g, cpm = get_grid(t, l, d, periodic)\n",
    "    \n",
    "    source = n+1\n",
    "    target = n+2\n",
    "    \n",
    "    for i in 1:l\n",
    "        idx = cor_to_idx((t, i), shape)\n",
    "        add_edge!(g, source, idx)\n",
    "        cpm[source, idx] = 1\n",
    "    end\n",
    "    \n",
    "    flow = 0.0\n",
    "    for _ in 1:n_average\n",
    "        gp = copy(g)\n",
    "        cpmp = copy(cpm)\n",
    "        for idx in 1:n\n",
    "            if rand() < p\n",
    "                add_edge!(gp, idx, target)\n",
    "                cpmp[idx, target] = 1\n",
    "            end\n",
    "        end\n",
    "        flow += maximum_flow(gp, n+1, n+2)[1]\n",
    "    end\n",
    "    return flow / n_average\n",
    "end"
   ]
  },
  {
   "cell_type": "code",
   "execution_count": 26,
   "metadata": {},
   "outputs": [
    {
     "data": {
      "image/png": "[encoded data removed]",
      "text/plain": [
       "Figure(PyObject <Figure size 640x480 with 1 Axes>)"
      ]
     },
     "metadata": {},
     "output_type": "display_data"
    },
    {
     "data": {
      "text/plain": [
       "PyObject <matplotlib.legend.Legend object at 0x00000000439AD8E0>"
      ]
     },
     "execution_count": 26,
     "metadata": {},
     "output_type": "execute_result"
    }
   ],
   "source": [
    "l = 64\n",
    "t = 30\n",
    "n_average = 100\n",
    "p = 0.1\n",
    "d = 0.5\n",
    "\n",
    "for p in 0.02:0.02:0.1\n",
    "    result = [get_mean_flow(i, l, true, p, d, n_average) for i in 1:t]\n",
    "    x = (1:t)\n",
    "    y = result\n",
    "    plot(x .* p, y, label=p, ms=2)\n",
    "end\n",
    "legend()"
   ]
  },
  {
   "cell_type": "code",
   "execution_count": null,
   "metadata": {},
   "outputs": [],
   "source": []
  },
  {
   "cell_type": "code",
   "execution_count": null,
   "metadata": {},
   "outputs": [],
   "source": []
  }
 ],
 "metadata": {
  "kernelspec": {
   "display_name": "Julia 1.5.3",
   "language": "julia",
   "name": "julia-1.5"
  },
  "language_info": {
   "file_extension": ".jl",
   "mimetype": "application/julia",
   "name": "julia",
   "version": "1.5.3"
  }
 },
 "nbformat": 4,
 "nbformat_minor": 4
}
