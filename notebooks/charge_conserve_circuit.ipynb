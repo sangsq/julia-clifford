{
 "cells": [
  {
   "cell_type": "code",
   "execution_count": 28,
   "metadata": {},
   "outputs": [],
   "source": [
    "include(\"../cliff7.jl\")\n",
    "using PyPlot\n",
    "using Profile"
   ]
  },
  {
   "cell_type": "code",
   "execution_count": null,
   "metadata": {},
   "outputs": [],
   "source": []
  },
  {
   "cell_type": "code",
   "execution_count": 40,
   "metadata": {},
   "outputs": [
    {
     "data": {
      "text/plain": [
       "cc_ee_sim (generic function with 1 method)"
      ]
     },
     "execution_count": 40,
     "metadata": {},
     "output_type": "execute_result"
    }
   ],
   "source": [
    "function cc_adam_gate!(state, b, i, j, p)\n",
    "    ms = size(state, 1)==size(state, 2) ? fps_measurement! : measurement!\n",
    "    cliff = random_clifford(2b)\n",
    "    rg = union(b*i-b+1:b*i, b*j-b+1:b*j)\n",
    "    clifford_action!(cliff, state, rg)\n",
    "    if rand() < p\n",
    "        obs = (0, Bool[1, 0])\n",
    "        for k in b*i-b+1:b*i\n",
    "            ms(state, obs, [k])\n",
    "        end\n",
    "    end\n",
    "    if rand() < p\n",
    "        obs = (0, Bool[1, 0])\n",
    "        for k in b*j-b+1:b*j\n",
    "            ms(state, obs, [k])\n",
    "        end\n",
    "    end\n",
    "    return nothing\n",
    "end\n",
    "\n",
    "function cc_ee_sim(n, b, cut, p_list, n_step, step_size, burnin, n_average, periodic)\n",
    "    result = zeros(length(p_list), n_step)\n",
    "    for (k, p) in enumerate(p_list)\n",
    "        for _ in 1:n_average\n",
    "            state = all_up(n*b)\n",
    "            for _ in 1:burnin\n",
    "                for ini in [1, 2]\n",
    "                    for i in ini : 2 : (periodic ? n : n-1)\n",
    "                        j = i==n ? 1 : i+1\n",
    "                        cc_adam_gate!(state, b, i, j, p)\n",
    "                    end\n",
    "                end\n",
    "            end\n",
    "            for t in 1:n_step\n",
    "#                 result[k, t] += left_ee_on_all_cuts(state)[b*cut+1]\n",
    "                for _ in 1:step_size\n",
    "                    for ini in [1, 2]\n",
    "                        for i in ini : 2 : (periodic ? n : n-1)\n",
    "                            j = i==n ? 1 : i+1\n",
    "                            cc_adam_gate!(state, b, i, j, p)\n",
    "                        end\n",
    "                    end\n",
    "                end\n",
    "            end\n",
    "        end\n",
    "    end\n",
    "    result ./= n_average\n",
    "    return result\n",
    "end"
   ]
  },
  {
   "cell_type": "code",
   "execution_count": 37,
   "metadata": {},
   "outputs": [
    {
     "data": {
      "text/plain": [
       "30"
      ]
     },
     "execution_count": 37,
     "metadata": {},
     "output_type": "execute_result"
    }
   ],
   "source": [
    "n = 128\n",
    "b = 2\n",
    "cut = div(n, 2)\n",
    "p_list = [0.2]\n",
    "n_step = 128\n",
    "step_size = 1\n",
    "burnin = 0\n",
    "n_average = 100\n",
    "periodic = true\n",
    "nn = 30"
   ]
  },
  {
   "cell_type": "code",
   "execution_count": 38,
   "metadata": {},
   "outputs": [
    {
     "data": {
      "text/plain": [
       "1×128 Array{Float64,2}:\n",
       " 0.0  2.52  4.62  6.26  8.03  9.61  11.07  …  34.8  34.79  34.85  34.7  34.77"
      ]
     },
     "execution_count": 38,
     "metadata": {},
     "output_type": "execute_result"
    }
   ],
   "source": [
    "Profile.clear()\n",
    "Profile.init(Int(1e7), 0.01)\n",
    "@profile cc_ee_sim(n, b, cut, p_list, n_step, step_size, burnin, n_average, periodic)"
   ]
  },
  {
   "cell_type": "code",
   "execution_count": 39,
   "metadata": {},
   "outputs": [
    {
     "name": "stdout",
     "output_type": "stream",
     "text": [
      "Overhead ╎ [+additional indent] Count File:Line; Function\n",
      "=========================================================\n",
      "    ╎134002 @Base\\task.jl:356; (::IJulia.var\"#15#18\")()\n",
      "    ╎ 134002 ...ia\\src\\eventloop.jl:8; eventloop(::ZMQ.Socket)\n",
      "    ╎  134002 @Base\\essentials.jl:709; invokelatest\n",
      "    ╎   134002 @Base\\essentials.jl:710; #invokelatest#1\n",
      "    ╎    134002 ...xecute_request.jl:67; execute_request(::ZMQ.Socket...\n",
      "    ╎     134002 ...oftGlobalScope.jl:65; softscope_include_string(::...\n",
      "  38╎    ╎ 134002 @Base\\loading.jl:1091; include_string(::Function...\n",
      "    ╎    ╎  20233  In[29]:35; cc_ee_sim(::Int64, ::Int6...\n",
      "    ╎    ╎   19478  ...fford\\cliff7.jl:376; left_ee_on_all_cuts(::Sta...\n",
      "    ╎    ╎    19315  ...inary_linalg.jl:194; binary_all_vertical_cut_...\n",
      "    ╎    ╎     19296  ...inary_linalg.jl:179; binary_all_vertical_cut_...\n",
      "  29╎    ╎    ╎ 17406  ...nary_linalg.jl:35; binary_uppertrianglize...\n",
      "    ╎    ╎    ╎  7348   ...tractarray.jl:1060; getindex\n",
      "  16╎    ╎    ╎   7348   ...imensional.jl:743; _getindex\n",
      "    ╎    ╎    ╎    6072   ...imensional.jl:757; _unsafe_getindex(::In...\n",
      "    ╎    ╎    ╎     6072   ...imensional.jl:762; _unsafe_getindex!\n",
      "    ╎    ╎    ╎    ╎ 6072   ...mensional.jl:767; macro expansion\n",
      "    ╎    ╎    ╎  9189   ...\\broadcast.jl:845; materialize!\n",
      "    ╎    ╎    ╎   9189   ...\\broadcast.jl:848; materialize!\n",
      "    ╎    ╎    ╎    9148   ...\\broadcast.jl:886; copyto!\n",
      "    ╎    ╎    ╎     8790   ...\\broadcast.jl:931; copyto!\n",
      "    ╎    ╎    ╎    ╎ 6450   ...e\\simdloop.jl:77; macro expansion\n",
      "    ╎    ╎    ╎    ╎  6450   ...broadcast.jl:932; macro expansion\n",
      "    ╎    ╎    ╎    ╎   6119   ...roadcast.jl:575; getindex\n",
      "    ╎    ╎    ╎    ╎    6116   ...roadcast.jl:621; _broadcast_getindex\n",
      "    ╎    ╎    ╎    ╎     6116   ...roadcast.jl:648; _broadcast_getinde...\n",
      "    ╎    ╎    ╎    ╎    ╎ 6116   @Base\\bool.jl:75; xor\n",
      "    ╎    ╎    ╎    ╎    ╎  6116   ...erators.jl:202; !=\n",
      "6116╎    ╎    ╎    ╎    ╎   6116   ...motion.jl:398; ==\n",
      "  10╎    ╎  113700 In[29]:40; cc_ee_sim(::Int64, ::Int6...\n",
      "   7╎    ╎   39720  In[29]:5; cc_adam_gate!(::StabState...\n",
      "   5╎    ╎    8779   ...fford\\cliff7.jl:239; clifford_action!(::Cliff...\n",
      "6679╎    ╎     6679   @Base\\array.jl:810; getindex\n",
      "   3╎    ╎    13616  ...fford\\cliff7.jl:250; clifford_action!(::Cliff...\n",
      "    ╎    ╎     13466  ...stractarray.jl:1153; setindex!\n",
      " 643╎    ╎    ╎ 10159  ...dimensional.jl:785; _setindex!\n",
      "2792╎    ╎    ╎  9516   ...dimensional.jl:789; _unsafe_setindex!(::In...\n",
      "    ╎    ╎    ╎   5529   ...imensional.jl:797; macro expansion\n",
      "  44╎    ╎   35866  In[29]:9; cc_adam_gate!(::StabState...\n",
      "  16╎    ╎    11078  ...fford\\cliff7.jl:270; fps_measurement!(::StabS...\n",
      "    ╎    ╎     5040   ...fford\\cliff7.jl:131; row_sum!(::StabState, ::...\n",
      "  73╎    ╎    19775  ...fford\\cliff7.jl:277; fps_measurement!(::StabS...\n",
      "    ╎    ╎     8395   ...fford\\cliff7.jl:131; row_sum!(::StabState, ::...\n",
      "    ╎    ╎     5375   ...fford\\cliff7.jl:132; row_sum!(::StabState, ::...\n",
      "    ╎    ╎     5420   ...fford\\cliff7.jl:133; row_sum!(::StabState, ::...\n",
      " 116╎    ╎   35089  In[29]:15; cc_adam_gate!(::StabState...\n",
      "  24╎    ╎    10930  ...fford\\cliff7.jl:270; fps_measurement!(::StabS...\n",
      "  80╎    ╎    19091  ...fford\\cliff7.jl:277; fps_measurement!(::StabS...\n",
      "    ╎    ╎     8066   ...fford\\cliff7.jl:131; row_sum!(::StabState, ::...\n",
      "    ╎    ╎     5134   ...fford\\cliff7.jl:132; row_sum!(::StabState, ::...\n",
      "    ╎    ╎     5341   ...fford\\cliff7.jl:133; row_sum!(::StabState, ::...\n",
      "Total snapshots: 134250\n"
     ]
    }
   ],
   "source": [
    "Profile.print(mincount=5000)"
   ]
  },
  {
   "cell_type": "code",
   "execution_count": null,
   "metadata": {},
   "outputs": [],
   "source": []
  }
 ],
 "metadata": {
  "kernelspec": {
   "display_name": "Julia 1.5.3",
   "language": "julia",
   "name": "julia-1.5"
  },
  "language_info": {
   "file_extension": ".jl",
   "mimetype": "application/julia",
   "name": "julia",
   "version": "1.5.3"
  }
 },
 "nbformat": 4,
 "nbformat_minor": 4
}
