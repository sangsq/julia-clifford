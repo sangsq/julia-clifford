{
 "cells": [
  {
   "cell_type": "markdown",
   "metadata": {},
   "source": [
    "# Relation between opEE and mutual information"
   ]
  },
  {
   "cell_type": "markdown",
   "metadata": {},
   "source": [
    "Density matrix $\\rho$ suppots on disjoint areas $A$ and $B$.\n",
    "\n",
    "The mutual information $I(A:B)$ is defined to be $I(A:B) = S(A)+S(B)-S(AB)$.\n",
    "\n",
    "Given operator basis $\\{a_i\\}$ for area $A$ and $\\{b_i\\}$ for area $B$. $\\rho$ can be represented as $\\rho=\\sum_{i,j}c_{ij}a_i\\otimes b_j$. Asume $\\{s_k\\}$ are singular values of normalized matrix $c_{ij}/||c_{ij}||_2$, then the operator entanglement entropy of $\\rho$ between area A and B is given by $OpEE(\\rho)= -\\sum_i s_i^2 \\log s_i^2 $\n",
    "\n",
    "In this notebook we try to check numerically whether $I(A:B)=OpEE(\\rho)$ holds in general."
   ]
  },
  {
   "cell_type": "markdown",
   "metadata": {},
   "source": [
    "## Setup\n",
    "\n",
    "The density matrix can be expanded as:\n",
    "$$\\rho = \\sum_{ijkl} \\alpha_{i,j,k,l}|i\\rangle_A \\langle j|\\otimes |k\\rangle_B \\langle l|$$\n",
    "or just a tensor $\\alpha_{ijkl}$\n",
    "\n",
    "The reduced density matrices for A and B are: $\\alpha_{iikl}$ and $\\alpha_{ijkk}$ (Einstein notation addapted).\n",
    "\n",
    "To get the $c_{ij}$ appeared above, we need to merge $i, j$ (and $k,l$) into a single index. A simple way is defining $I = i*d_A + j$ and $J = k*d_B + l$. Then $\\alpha_{ijkl} = c_{IJ}$ and is ready for the SVD."
   ]
  },
  {
   "cell_type": "markdown",
   "metadata": {},
   "source": [
    "## Code"
   ]
  },
  {
   "cell_type": "code",
   "execution_count": 64,
   "metadata": {},
   "outputs": [],
   "source": [
    "import numpy as np\n"
   ]
  },
  {
   "cell_type": "code",
   "execution_count": 107,
   "metadata": {},
   "outputs": [],
   "source": [
    "d_A = 4\n",
    "d_B = 8\n",
    "\n",
    "# sample a positive definite matrix as density matrix\n",
    "\n",
    "cc = lambda x: np.moveaxis(x, [0,1,2,3], [1,0,3,2]).conj()\n",
    "tmp  = np.random.randn(d_A, d_A, d_B, d_B) + np.random.randn(d_A, d_A, d_B, d_B)*1j\n",
    "tmp = tmp + cc(tmp)\n",
    "\n",
    "# tmp2[i, j, k, l] = tmp[i, m, k, n] * tmp[m, j, n,l]\n",
    "\n",
    "tmp2 = np.zeros((d_A, d_A, d_B, d_B), dtype=np.complex128)\n",
    "for i in range(d_A):\n",
    "    for j in range(d_A):\n",
    "        for k in range(d_B):\n",
    "            for l in range(d_B):\n",
    "                for m in range(d_A):\n",
    "                    for n in range(d_B):\n",
    "                        tmp2[i, j, k, l] += tmp[i, m, k, n] * tmp[m, j, n,l]\n",
    "\n",
    "# L1 normalize\n",
    "trace = 0\n",
    "for i in range(d_A):\n",
    "    for j in range(d_B):\n",
    "        trace += tmp2[i, i, j, j]\n",
    "rho = tmp2/trace"
   ]
  },
  {
   "cell_type": "code",
   "execution_count": 108,
   "metadata": {},
   "outputs": [],
   "source": [
    "rhoAB = np.zeros((d_A * d_B, d_A * d_B), dtype=np.complex128)\n",
    "rhoA = np.zeros((d_A, d_A), dtype=np.complex128)\n",
    "rhoB = np.zeros((d_B, d_B), dtype=np.complex128)\n",
    "vecAB = np.zeros((d_A * d_A, d_B * d_B), dtype=np.complex128)\n",
    "\n",
    "for i in range(d_A):\n",
    "    for j in range(d_A):\n",
    "        for k in range(d_B):\n",
    "            for l in range(d_B):\n",
    "                rhoAB[i * d_B + k, j * d_B + l] = rho[i, j, k, l]\n",
    "                vecAB[i * d_A + j, k * d_B + l] = rho[i, j, k, l]\n",
    "                if k==l:\n",
    "                    rhoA[i, j] += rho[i, j, k, l]\n",
    "                if i==j:\n",
    "                    rhoB[k, l] += rho[i, j, k, l]\n",
    "\n",
    "vecAB /= np.linalg.norm(vecAB)"
   ]
  },
  {
   "cell_type": "code",
   "execution_count": 182,
   "metadata": {},
   "outputs": [],
   "source": [
    "S = lambda a: (-a*np.log(a)).sum()\n",
    "Sa = lambda a, alpha: np.log((a**alpha).sum())/(1-alpha)\n",
    "\n",
    "\n",
    "S_AB = S(np.linalg.eigvals(rhoAB).real)\n",
    "S_A = S(np.linalg.eigvals(rhoA).real)\n",
    "S_B = S(np.linalg.eigvals(rhoB).real)\n",
    "I_AB = S_A + S_B - S_AB\n",
    "\n",
    "sv = np.linalg.svd(vecAB, compute_uv=False)\n",
    "opEE = S(sv**2)\n",
    "\n",
    "opEE = Sa(sv**2, 2)\n",
    "\n"
   ]
  },
  {
   "cell_type": "code",
   "execution_count": 183,
   "metadata": {},
   "outputs": [
    {
     "data": {
      "text/plain": [
       "0.4347394613716733"
      ]
     },
     "execution_count": 183,
     "metadata": {},
     "output_type": "execute_result"
    }
   ],
   "source": [
    "I_AB"
   ]
  },
  {
   "cell_type": "code",
   "execution_count": 184,
   "metadata": {},
   "outputs": [
    {
     "data": {
      "text/plain": [
       "1.1220755903637725"
      ]
     },
     "execution_count": 184,
     "metadata": {},
     "output_type": "execute_result"
    }
   ],
   "source": [
    "opEE"
   ]
  },
  {
   "cell_type": "code",
   "execution_count": 112,
   "metadata": {},
   "outputs": [
    {
     "data": {
      "text/plain": [
       "4.22965541339702"
      ]
     },
     "execution_count": 112,
     "metadata": {},
     "output_type": "execute_result"
    }
   ],
   "source": [
    "opEE/I_AB"
   ]
  },
  {
   "cell_type": "code",
   "execution_count": null,
   "metadata": {},
   "outputs": [],
   "source": []
  }
 ],
 "metadata": {
  "kernelspec": {
   "display_name": "Python 3",
   "language": "python",
   "name": "python3"
  },
  "language_info": {
   "codemirror_mode": {
    "name": "ipython",
    "version": 3
   },
   "file_extension": ".py",
   "mimetype": "text/x-python",
   "name": "python",
   "nbconvert_exporter": "python",
   "pygments_lexer": "ipython3",
   "version": "3.7.3"
  }
 },
 "nbformat": 4,
 "nbformat_minor": 2
}
